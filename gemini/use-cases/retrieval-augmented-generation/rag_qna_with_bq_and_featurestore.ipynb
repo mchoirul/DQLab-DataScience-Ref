{
  "cells": [
    {
      "cell_type": "code",
      "execution_count": null,
      "metadata": {
        "id": "ur8xi4C7S06n"
      },
      "outputs": [],
      "source": [
        "# Copyright 2024 Google LLC\n",
        "#\n",
        "# Licensed under the Apache License, Version 2.0 (the \"License\");\n",
        "# you may not use this file except in compliance with the License.\n",
        "# You may obtain a copy of the License at\n",
        "#\n",
        "#     https://www.apache.org/licenses/LICENSE-2.0\n",
        "#\n",
        "# Unless required by applicable law or agreed to in writing, software\n",
        "# distributed under the License is distributed on an \"AS IS\" BASIS,\n",
        "# WITHOUT WARRANTIES OR CONDITIONS OF ANY KIND, either express or implied.\n",
        "# See the License for the specific language governing permissions and\n",
        "# limitations under the License."
      ]
    },
    {
      "cell_type": "markdown",
      "metadata": {
        "id": "JAPoU8Sm5E6e"
      },
      "source": [
        "# Building a Gen AI RAG application with Vertex AI Feature Store and BigQuery\n",
        "\n",
        "<table align=\"left\">\n",
        "  <td style=\"text-align: center\">\n",
        "    <a href=\"https://colab.research.google.com/github/GoogleCloudPlatform/generative-ai/blob/main/gemini/use-cases/retrieval-augmented-generation/rag_qna_with_bq_and_featurestore.ipynb\">\n",
        "      <img width=\"32px\" src=\"https://www.gstatic.com/pantheon/images/bigquery/welcome_page/colab-logo.svg\" alt=\"Google Colaboratory logo\"><br> Open in Colab\n",
        "    </a>\n",
        "  </td>\n",
        "  <td style=\"text-align: center\">\n",
        "    <a href=\"https://console.cloud.google.com/vertex-ai/colab/import/https:%2F%2Fraw.githubusercontent.com%2FGoogleCloudPlatform%2Fgenerative-ai%2Fmain%2Fgemini%2Fuse-cases%2Fretrieval-augmented-generation%2Frag_qna_with_bq_and_featurestore.ipynb\">\n",
        "      <img width=\"32px\" src=\"https://lh3.googleusercontent.com/JmcxdQi-qOpctIvWKgPtrzZdJJK-J3sWE1RsfjZNwshCFgE_9fULcNpuXYTilIR2hjwN\" alt=\"Google Cloud Colab Enterprise logo\"><br> Open in Colab Enterprise\n",
        "    </a>\n",
        "  </td>\n",
        "  <td style=\"text-align: center\">\n",
        "    <a href=\"https://console.cloud.google.com/vertex-ai/workbench/deploy-notebook?download_url=https://raw.githubusercontent.com/GoogleCloudPlatform/generative-ai/main/gemini/use-cases/retrieval-augmented-generation/rag_qna_with_bq_and_featurestore.ipynb\">\n",
        "      <img src=\"https://www.gstatic.com/images/branding/gcpiconscolors/vertexai/v1/32px.svg\" alt=\"Vertex AI logo\"><br> Open in Vertex AI Workbench\n",
        "    </a>\n",
        "  </td>\n",
        "  <td style=\"text-align: center\">\n",
        "    <a href=\"https://console.cloud.google.com/bigquery/import?url=https://github.com/GoogleCloudPlatform/generative-ai/blob/main/gemini/use-cases/retrieval-augmented-generation/rag_qna_with_bq_and_featurestore.ipynb\">\n",
        "      <img src=\"https://www.gstatic.com/images/branding/gcpiconscolors/bigquery/v1/32px.svg\" alt=\"BigQuery Studio logo\"><br> Open in BigQuery Studio\n",
        "    </a>\n",
        "  </td>\n",
        "  <td style=\"text-align: center\">\n",
        "    <a href=\"https://github.com/GoogleCloudPlatform/generative-ai/blob/main/gemini/use-cases/retrieval-augmented-generation/rag_qna_with_bq_and_featurestore.ipynb\">\n",
        "      <img width=\"32px\" src=\"https://upload.wikimedia.org/wikipedia/commons/9/91/Octicons-mark-github.svg\" alt=\"GitHub logo\"><br> View on GitHub\n",
        "    </a>\n",
        "  </td>\n",
        "</table>\n",
        "\n",
        "<div style=\"clear: both;\"></div>\n",
        "\n",
        "<b>Share to:</b>\n",
        "\n",
        "<a href=\"https://www.linkedin.com/sharing/share-offsite/?url=https%3A//github.com/GoogleCloudPlatform/generative-ai/blob/main/gemini/use-cases/retrieval-augmented-generation/rag_qna_with_bq_and_featurestore.ipynb\" target=\"_blank\">\n",
        "  <img width=\"20px\" src=\"https://upload.wikimedia.org/wikipedia/commons/8/81/LinkedIn_icon.svg\" alt=\"LinkedIn logo\">\n",
        "</a>\n",
        "\n",
        "<a href=\"https://bsky.app/intent/compose?text=https%3A//github.com/GoogleCloudPlatform/generative-ai/blob/main/gemini/use-cases/retrieval-augmented-generation/rag_qna_with_bq_and_featurestore.ipynb\" target=\"_blank\">\n",
        "  <img width=\"20px\" src=\"https://upload.wikimedia.org/wikipedia/commons/7/7a/Bluesky_Logo.svg\" alt=\"Bluesky logo\">\n",
        "</a>\n",
        "\n",
        "<a href=\"https://twitter.com/intent/tweet?url=https%3A//github.com/GoogleCloudPlatform/generative-ai/blob/main/gemini/use-cases/retrieval-augmented-generation/rag_qna_with_bq_and_featurestore.ipynb\" target=\"_blank\">\n",
        "  <img width=\"20px\" src=\"https://upload.wikimedia.org/wikipedia/commons/5/53/X_logo_2023_original.svg\" alt=\"X logo\">\n",
        "</a>\n",
        "\n",
        "<a href=\"https://reddit.com/submit?url=https%3A//github.com/GoogleCloudPlatform/generative-ai/blob/main/gemini/use-cases/retrieval-augmented-generation/rag_qna_with_bq_and_featurestore.ipynb\" target=\"_blank\">\n",
        "  <img width=\"20px\" src=\"https://redditinc.com/hubfs/Reddit%20Inc/Brand/Reddit_Logo.png\" alt=\"Reddit logo\">\n",
        "</a>\n",
        "\n",
        "<a href=\"https://www.facebook.com/sharer/sharer.php?u=https%3A//github.com/GoogleCloudPlatform/generative-ai/blob/main/gemini/use-cases/retrieval-augmented-generation/rag_qna_with_bq_and_featurestore.ipynb\" target=\"_blank\">\n",
        "  <img width=\"20px\" src=\"https://upload.wikimedia.org/wikipedia/commons/5/51/Facebook_f_logo_%282019%29.svg\" alt=\"Facebook logo\">\n",
        "</a>            "
      ]
    },
    {
      "cell_type": "markdown",
      "metadata": {
        "id": "84f0f73a0f76"
      },
      "source": [
        "| | |\n",
        "|-|-|\n",
        "| Authors | [Elia Secchi](https://github.com/eliasecchig) [Lorenzo Spataro](https://github.com/lspataroG) |"
      ]
    },
    {
      "cell_type": "markdown",
      "metadata": {
        "id": "tvgnzT1CKxrO"
      },
      "source": [
        "## Overview\n",
        "\n",
        "This notebook guides you through building a low-latency vector search system for your Gen AI application using [BigQuery Vector Search](https://cloud.google.com/bigquery/docs/vector-search-intro) and [Vertex AI Feature Store](https://cloud.google.com/vertex-ai/docs/featurestore/latest/overview). We'll leverage the [`BigQueryVectorStore` LangChain integration]([https://github.com/langchain-ai/langchain-google/blob/main/libs/community/langchain_google_community/bq_storage_vectorstores/featurestore.py#L33]) and [`VertexFSVectorStore` LangChain integration]([https://github.com/langchain-ai/langchain-google/blob/main/libs/community/langchain_google_community/bq_storage_vectorstores/bigquery.py#L26]) to streamline this process.\n",
        "\n",
        "Vertex AI Feature Store seamlessly integrates with BigQuery, providing a unified data storage and flexible vector search options:\n",
        "\n",
        "- **BigQuery Vector Search**: with **`BigQueryVectorStore`** LangChain class, ideal for batch retrieval and prototyping, as it requires no infrastructure setup.\n",
        "- **Feature Store Online Store**: with **`VertexFSVectorStore`** LangChain class, enables low-latency retrieval with manual or scheduled data sync. Perfect for production-ready user-facing Gen AI applications.\n",
        "\n",
        "As part of this notebook you will learn how to:\n",
        "1. Ingest data and embedding using BigQuery Vector Search with the class `BigQueryVectorStore`\n",
        "2. Perform retrieval leveraging BigQuery Vector Search with the class `BigQueryVectorStore`\n",
        "3. Transition to Vertex AI Feature Store with the class `VertexFSVectorStore` for low-latency retrieval\n",
        "4. Understand pros and cons of both options through a performance deep dive"
      ]
    },
    {
      "cell_type": "markdown",
      "metadata": {
        "id": "b2556b5937ab"
      },
      "source": [
        "![bq_fs_diagram_journey.png](https://storage.googleapis.com/github-repo/generative-ai/gemini/use-cases/retrieval-augmented-generation/bq_fs_diagram_journey.png)"
      ]
    },
    {
      "cell_type": "markdown",
      "metadata": {
        "id": "61RBz8LLbxCR"
      },
      "source": [
        "## Get started"
      ]
    },
    {
      "cell_type": "markdown",
      "metadata": {
        "id": "No17Cw5hgx12"
      },
      "source": [
        "### Install Vertex AI SDK and other required packages"
      ]
    },
    {
      "cell_type": "code",
      "execution_count": 29,
      "metadata": {
        "id": "tFy3H3aPgx12",
        "outputId": "28cd7325-6323-49e2-bfad-925f9fdd1680",
        "colab": {
          "base_uri": "https://localhost:8080/"
        }
      },
      "outputs": [
        {
          "output_type": "stream",
          "name": "stdout",
          "text": [
            "\u001b[?25l   \u001b[90m━━━━━━━━━━━━━━━━━━━━━━━━━━━━━━━━━━━━━━━━\u001b[0m \u001b[32m0.0/240.1 kB\u001b[0m \u001b[31m?\u001b[0m eta \u001b[36m-:--:--\u001b[0m\r\u001b[2K   \u001b[90m━━━━━━━━━━━━━━━━━━━━━━━━━━━━━━━━━━━━━━━━\u001b[0m \u001b[32m240.1/240.1 kB\u001b[0m \u001b[31m12.2 MB/s\u001b[0m eta \u001b[36m0:00:00\u001b[0m\n",
            "\u001b[?25h"
          ]
        }
      ],
      "source": [
        "%pip install --upgrade --user --quiet google-cloud-aiplatform \"langchain-google-vertexai\" \"langchain-google-community[featurestore]\" google-cloud-bigquery pypdf==4.2.0"
      ]
    },
    {
      "cell_type": "markdown",
      "metadata": {
        "id": "R5Xep4W9lq-Z"
      },
      "source": [
        "### Restart runtime\n",
        "\n",
        "To use the newly installed packages in this Jupyter runtime, you must restart the runtime. You can do this by running the cell below, which restarts the current kernel.\n",
        "\n",
        "The restart might take a minute or longer. After it's restarted, continue to the next step."
      ]
    },
    {
      "cell_type": "code",
      "execution_count": 30,
      "metadata": {
        "id": "XRvKdaPDTznN",
        "outputId": "42e05b18-0eb9-4e1e-89bd-efea114a52e5",
        "colab": {
          "base_uri": "https://localhost:8080/"
        }
      },
      "outputs": [
        {
          "output_type": "execute_result",
          "data": {
            "text/plain": [
              "{'status': 'ok', 'restart': True}"
            ]
          },
          "metadata": {},
          "execution_count": 30
        }
      ],
      "source": [
        "import IPython\n",
        "\n",
        "app = IPython.Application.instance()\n",
        "app.kernel.do_shutdown(True)"
      ]
    },
    {
      "cell_type": "markdown",
      "metadata": {
        "id": "SbmM4z7FOBpM"
      },
      "source": [
        "<div class=\"alert alert-block alert-warning\">\n",
        "<b>⚠️ The kernel is going to restart. Wait until it's finished before continuing to the next step. ⚠️</b>\n",
        "</div>"
      ]
    },
    {
      "cell_type": "markdown",
      "metadata": {
        "id": "dmWOrTJ3gx13"
      },
      "source": [
        "### Authenticate your notebook environment (Colab only)\n",
        "\n",
        "If you're running this notebook on Google Colab, run the cell below to authenticate your environment."
      ]
    },
    {
      "cell_type": "code",
      "execution_count": 1,
      "metadata": {
        "id": "NyKGtVQjgx13"
      },
      "outputs": [],
      "source": [
        "import sys\n",
        "\n",
        "if \"google.colab\" in sys.modules:\n",
        "    from google.colab import auth\n",
        "\n",
        "    auth.authenticate_user()"
      ]
    },
    {
      "cell_type": "markdown",
      "metadata": {
        "id": "DF4l8DTdWgPY"
      },
      "source": [
        "### Set Google Cloud project information and initialize Vertex AI SDK\n",
        "\n",
        "To get started using Vertex AI, you must have an existing Google Cloud project and [enable the Vertex AI API](https://console.cloud.google.com/flows/enableapi?apiid=aiplatform.googleapis.com).\n",
        "\n",
        "Learn more about [setting up a project and a development environment](https://cloud.google.com/vertex-ai/docs/start/cloud-environment)."
      ]
    },
    {
      "cell_type": "code",
      "execution_count": 2,
      "metadata": {
        "id": "Nqwi-5ufWp_B"
      },
      "outputs": [],
      "source": [
        "PROJECT_ID = \"genai-llm01\"  # @param {type:\"string\"}\n",
        "LOCATION = \"us-central1\"  # @param {type:\"string\"}\n",
        "\n",
        "\n",
        "import vertexai\n",
        "\n",
        "vertexai.init(project=PROJECT_ID, location=LOCATION)"
      ]
    },
    {
      "cell_type": "markdown",
      "metadata": {
        "id": "EdvJRUWRNGHE"
      },
      "source": [
        "## Getting started"
      ]
    },
    {
      "cell_type": "markdown",
      "metadata": {
        "id": "5303c05f7aa6"
      },
      "source": [
        "### Import libraries"
      ]
    },
    {
      "cell_type": "code",
      "execution_count": 3,
      "metadata": {
        "id": "854025f0c407"
      },
      "outputs": [],
      "source": [
        "from langchain.chains import RetrievalQA\n",
        "from langchain.globals import set_debug\n",
        "from langchain.text_splitter import RecursiveCharacterTextSplitter\n",
        "from langchain_community.document_loaders import PyPDFLoader\n",
        "from langchain_google_community import BigQueryVectorStore, VertexFSVectorStore\n",
        "from langchain_google_vertexai import VertexAI, VertexAIEmbeddings\n",
        "from google.cloud import bigquery\n",
        "from google.cloud.exceptions import NotFound"
      ]
    },
    {
      "cell_type": "code",
      "execution_count": 4,
      "metadata": {
        "id": "_68282UqlxrR"
      },
      "outputs": [],
      "source": [
        "DATASET_ID = \"bq_rag_embedding\"  # @param {type:\"string\"}\n",
        "TABLE = \"fixmycar\"  # @param {type:\"string\"}"
      ]
    },
    {
      "cell_type": "code",
      "source": [
        "client = bigquery.Client(project=PROJECT_ID)"
      ],
      "metadata": {
        "id": "UK1TBWR6UAWl"
      },
      "execution_count": 5,
      "outputs": []
    },
    {
      "cell_type": "code",
      "source": [
        "# Set dataset_id to the ID of the dataset to create.\n",
        "dataset = f\"{PROJECT_ID}.{DATASET_ID}\"\n",
        "\n",
        "# Construct a full Dataset object to send to the API.\n",
        "dataset_object = bigquery.Dataset(dataset)\n",
        "\n",
        "# Specify the geographic location where the dataset should reside.\n",
        "dataset_object.location = LOCATION\n",
        "\n",
        "# Send the dataset to the API for creation, with an explicit timeout.\n",
        "# Raises google.api_core.exceptions.Conflict if the Dataset already\n",
        "# exists within the project.\n",
        "try:\n",
        "    client.get_dataset(dataset_object)  # Make an API request.\n",
        "    print(f\"Dataset {dataset} already exists\")\n",
        "\n",
        "except NotFound:\n",
        "    dataset = client.create_dataset(dataset_object, timeout=30)  # Make an API request.\n",
        "    print(f\"Created dataset {client.project}.{dataset_object.dataset}\")"
      ],
      "metadata": {
        "id": "32iC4GBsUBj2",
        "outputId": "52d545d6-3612-4ce6-d0fc-df30184929f3",
        "colab": {
          "base_uri": "https://localhost:8080/"
        }
      },
      "execution_count": 6,
      "outputs": [
        {
          "output_type": "stream",
          "name": "stdout",
          "text": [
            "Dataset genai-llm01.bq_rag_embedding already exists\n"
          ]
        }
      ]
    },
    {
      "cell_type": "markdown",
      "metadata": {
        "id": "LDSM2ZQa8eBs"
      },
      "source": [
        "## Add documents to `BigQueryVectorStore`\n",
        "\n",
        "This step ingests and parse PDF documents, split them, generate embeddings and add the embeddings to the vector store. The document corpus used as dataset is a collection of owners car manual."
      ]
    },
    {
      "cell_type": "markdown",
      "metadata": {
        "id": "dIML1Ttj5nTk"
      },
      "source": [
        "**Summary steps**\n",
        "- Create text embeddings: LangChain `VertexAIEmbeddings`\n",
        "- Ingest PDF files: LangChain `PyPDFLoader`\n",
        "- Chunk documents: LangChain `TextSplitter`\n",
        "- Create Vector Store: LangChain  `VertexAIFeatureStore`"
      ]
    },
    {
      "cell_type": "markdown",
      "metadata": {
        "id": "q3hRmLiY2O0w"
      },
      "source": [
        "### Create the Vertex AI Embedding model"
      ]
    },
    {
      "cell_type": "code",
      "execution_count": 7,
      "metadata": {
        "id": "2tRYGd_Mv_ix"
      },
      "outputs": [],
      "source": [
        "embedding_model = VertexAIEmbeddings(\n",
        "    model_name=\"textembedding-gecko@latest\", project=PROJECT_ID\n",
        ")"
      ]
    },
    {
      "cell_type": "markdown",
      "metadata": {
        "id": "pKM_QIU0WPc3"
      },
      "source": [
        "### Ingest PDF file\n",
        "\n",
        "The document is hosted on Cloud Storage bucket (at `gs://github-repo/generative-ai/sample-apps/fixmycar/cymbal-starlight-2024.pdf`) and LangChain provides a convenient document loader [`PyPDFLoader`](https://python.langchain.com/docs/modules/data_connection/document_loaders/pdf/) to load documents from pdfs."
      ]
    },
    {
      "cell_type": "code",
      "execution_count": 8,
      "metadata": {
        "id": "UNEClQQjjRcc",
        "outputId": "c28d71c8-afa0-479b-dddd-6be7042243eb",
        "colab": {
          "base_uri": "https://localhost:8080/"
        }
      },
      "outputs": [
        {
          "output_type": "stream",
          "name": "stdout",
          "text": [
            "Copying gs://github-repo/generative-ai/sample-apps/fixmycar/cymbal-starlight-2024.pdf...\n",
            "/ [0 files][    0.0 B/328.9 KiB]                                                \r/ [1 files][328.9 KiB/328.9 KiB]                                                \r\n",
            "Operation completed over 1 objects/328.9 KiB.                                    \n"
          ]
        }
      ],
      "source": [
        "GCS_BUCKET_DOCS = \"github-repo/generative-ai/sample-apps/fixmycar\"\n",
        "\n",
        "# Copy the file to the current path\n",
        "!gsutil cp \"gs://$GCS_BUCKET_DOCS/*.pdf\" ."
      ]
    },
    {
      "cell_type": "code",
      "execution_count": 9,
      "metadata": {
        "id": "7kYw66EohYza",
        "outputId": "ca2360f0-5f8f-4a64-fa35-ffd8f1df6ba9",
        "colab": {
          "base_uri": "https://localhost:8080/"
        }
      },
      "outputs": [
        {
          "output_type": "stream",
          "name": "stderr",
          "text": [
            "/usr/local/lib/python3.10/dist-packages/pypdf/_crypt_providers/_cryptography.py:32: CryptographyDeprecationWarning: ARC4 has been moved to cryptography.hazmat.decrepit.ciphers.algorithms.ARC4 and will be removed from this module in 48.0.0.\n",
            "  from cryptography.hazmat.primitives.ciphers.algorithms import AES, ARC4\n"
          ]
        },
        {
          "output_type": "stream",
          "name": "stdout",
          "text": [
            "# of documents loaded (pre-chunking) = 22\n"
          ]
        }
      ],
      "source": [
        "# Ingest PDF files\n",
        "loader = PyPDFLoader(\"cymbal-starlight-2024.pdf\")\n",
        "documents = loader.load()\n",
        "\n",
        "# Add document name and source to the metadata\n",
        "for document in documents:\n",
        "    doc_md = document.metadata\n",
        "    document_name = doc_md[\"source\"].split(\"/\")[-1]\n",
        "    # derive doc source from Document loader\n",
        "    doc_source_prefix = \"/\".join(GCS_BUCKET_DOCS.split(\"/\")[:3])\n",
        "    doc_source_suffix = \"/\".join(doc_md[\"source\"].split(\"/\")[4:-1])\n",
        "    source = f\"{doc_source_prefix}/{doc_source_suffix}\"\n",
        "    document.metadata = {\"source\": source, \"document_name\": document_name}\n",
        "\n",
        "print(f\"# of documents loaded (pre-chunking) = {len(documents)}\")"
      ]
    },
    {
      "cell_type": "markdown",
      "metadata": {
        "id": "j8J7hQkVmkB1"
      },
      "source": [
        "Verify document metadata"
      ]
    },
    {
      "cell_type": "code",
      "execution_count": 10,
      "metadata": {
        "id": "jn3A13Nfmihf",
        "outputId": "029f3520-0e9d-45b3-a2d3-23a12b84dec3",
        "colab": {
          "base_uri": "https://localhost:8080/"
        }
      },
      "outputs": [
        {
          "output_type": "execute_result",
          "data": {
            "text/plain": [
              "{'source': 'github-repo/generative-ai/sample-apps/',\n",
              " 'document_name': 'cymbal-starlight-2024.pdf'}"
            ]
          },
          "metadata": {},
          "execution_count": 10
        }
      ],
      "source": [
        "documents[0].metadata"
      ]
    },
    {
      "cell_type": "markdown",
      "metadata": {
        "id": "oZA9HDA0mnWW"
      },
      "source": [
        "## Chunk documents - `TextSplitter`\n",
        "\n",
        "Split the documents to smaller chunks. When splitting the document, ensure a few chunks can fit within the context length of LLM."
      ]
    },
    {
      "cell_type": "code",
      "execution_count": 11,
      "metadata": {
        "id": "n2QuilhMmxgA",
        "outputId": "089a03b0-1e91-4b2a-e98f-e9f10cf5b4f7",
        "colab": {
          "base_uri": "https://localhost:8080/"
        }
      },
      "outputs": [
        {
          "output_type": "stream",
          "name": "stdout",
          "text": [
            "# of documents = 60\n"
          ]
        }
      ],
      "source": [
        "# Split the documents into chunks\n",
        "text_splitter = RecursiveCharacterTextSplitter(\n",
        "    chunk_size=1000,\n",
        "    chunk_overlap=50,\n",
        "    separators=[\"\\n\\n\", \"\\n\", \".\", \"!\", \"?\", \",\", \" \", \"\"],\n",
        ")\n",
        "doc_splits = text_splitter.split_documents(documents)\n",
        "\n",
        "# Add chunk number to metadata\n",
        "for idx, split in enumerate(doc_splits):\n",
        "    split.metadata[\"chunk\"] = idx\n",
        "\n",
        "print(f\"# of documents = {len(doc_splits)}\")"
      ]
    },
    {
      "cell_type": "code",
      "execution_count": 12,
      "metadata": {
        "id": "fv91BaKCmxP0",
        "outputId": "0141b4be-410c-4763-8f22-56651e50c65b",
        "colab": {
          "base_uri": "https://localhost:8080/"
        }
      },
      "outputs": [
        {
          "output_type": "execute_result",
          "data": {
            "text/plain": [
              "{'source': 'github-repo/generative-ai/sample-apps/',\n",
              " 'document_name': 'cymbal-starlight-2024.pdf',\n",
              " 'chunk': 0}"
            ]
          },
          "metadata": {},
          "execution_count": 12
        }
      ],
      "source": [
        "doc_splits[0].metadata"
      ]
    },
    {
      "cell_type": "markdown",
      "metadata": {
        "id": "8QC-w_t3m9Fe"
      },
      "source": [
        "## Configure `BigQueryVectorStore` as Vector Store\n",
        "\n",
        "We will start the journey using BigQuery Vector Store as it requires no startup time, making the class great for prototyping.\n",
        "\n",
        "You can initialize the class by providing:\n",
        "- `project_id`\n",
        "- `location`\n",
        "- `dataset_name`\n",
        "- `table_name`\n",
        "\n",
        "The table will be used to store embeddings and metadata. You can also point to an existing table. The class will use [BigQuery Vector Search](https://cloud.google.com/bigquery/docs/vector-search-intro) to perform vector search.\n",
        "\n",
        "See [here](https://github.com/langchain-ai/langchain-google/blob/main/libs/community/langchain_google_community/bq_storage_vectorstores/bigquery.py#L26) for the full list of parameters of the class."
      ]
    },
    {
      "cell_type": "code",
      "execution_count": 14,
      "metadata": {
        "id": "gLxHuLY1lxrS",
        "outputId": "b34a888d-e397-489e-aaf8-0cfe8d121279",
        "colab": {
          "base_uri": "https://localhost:8080/"
        }
      },
      "outputs": [
        {
          "output_type": "stream",
          "name": "stderr",
          "text": [
            "INFO:langchain_google_community.bq_storage_vectorstores._base:BigQuery table genai-llm01.bq_rag_embedding.fixmycar initialized/validated as persistent storage. Access via BigQuery console:\n",
            " https://console.cloud.google.com/bigquery?project=genai-llm01&ws=!1m5!1m4!4m3!1sgenai-llm01!2sbq_rag_embedding!3sfixmycar\n"
          ]
        }
      ],
      "source": [
        "bq_store = BigQueryVectorStore(\n",
        "    project_id=PROJECT_ID,\n",
        "    location=LOCATION,\n",
        "    dataset_name=DATASET_ID,\n",
        "    table_name=TABLE,\n",
        "    embedding=embedding_model,\n",
        ")"
      ]
    },
    {
      "cell_type": "markdown",
      "metadata": {
        "id": "17cgWCFRlxrS"
      },
      "source": [
        "### Add documents to the store\n",
        "\n",
        "Note: If you have precomputed embeddings, you can add text, embeddings and potential metadata using the method `add_texts_with_embeddings`"
      ]
    },
    {
      "cell_type": "code",
      "execution_count": 15,
      "metadata": {
        "id": "_TXggBP9lxrT"
      },
      "outputs": [],
      "source": [
        "doc_ids = bq_store.add_documents(doc_splits)"
      ]
    },
    {
      "cell_type": "markdown",
      "metadata": {
        "id": "NwTSeEsGlxrT"
      },
      "source": [
        "Verify the `BigQueryVectorSearch` with similarity search"
      ]
    },
    {
      "cell_type": "code",
      "execution_count": 16,
      "metadata": {
        "id": "0YYiWAOrlxrT",
        "outputId": "d682e245-a5b6-4f17-f140-b197fa234a52",
        "colab": {
          "base_uri": "https://localhost:8080/"
        }
      },
      "outputs": [
        {
          "output_type": "execute_result",
          "data": {
            "text/plain": [
              "[Document(metadata={'doc_id': 'ee7bd1a855b543038e24860abefdb5ca', 'source': 'github-repo/generative-ai/sample-apps/', 'document_name': 'cymbal-starlight-2024.pdf', 'chunk': 56, 'score': 0.6757340150553269}, page_content=\"manual.md 2024-03-23\\n21 / 22Wash your vehicle regularly to remove dirt and grime.\\nWax your vehicle twice a year to protect the paint.\\nCheck the tire pressure regularly and adjust it as needed.\\nInspect the brakes regularly for wear and tear.\\nKeep the interior of your vehicle clean and free of debris.\\nBy following these tips, you can help to keep your Cymbal Starlight 2024 in top condition for many years to\\ncome.\\nChapter 18: Emergencies\\nRoadside Assistance\\nIf you experience a roadside emergency, such as a flat tire or a dead battery, you can call roadside\\nassistance for help. Roadside assistance is available 24 hours a day, 7 days a week.\\nTo call roadside assistance, dial the following number:\\n1-800-555-1212\\nWhen you call roadside assistance, be prepared to provide the following information:\\nYour name and contact information\\nYour vehicle's make, model, and year\\nYour vehicle's location\\nThe nature of the emergency\\nFlat Tire\"),\n",
              " Document(metadata={'doc_id': '625a716e9ca44b00a91a9232df5f6975', 'source': 'github-repo/generative-ai/sample-apps/', 'document_name': 'cymbal-starlight-2024.pdf', 'chunk': 28, 'score': 0.6769496946410367}, page_content='Stay in your vehicle and wait for emergency services to arrive.\\nIf you are stranded in a remote area, stay with your vehicle and try to attract attention by waving your\\narms or using a flashlight.'),\n",
              " Document(metadata={'doc_id': '70476f4038004693a277dae863856435', 'source': 'github-repo/generative-ai/sample-apps/', 'document_name': 'cymbal-starlight-2024.pdf', 'chunk': 27, 'score': 0.7075757411060688}, page_content=\"Horn\\nThe horn is used to alert other drivers and pedestrians of your presence.\\nTo sound the horn, press the horn button located on the steering wheel.\\nEmergency Roadside Assistance\\nYour Cymbal Starlight 2024 comes with 24/7 emergency roadside assistance.\\nTo contact emergency roadside assistance, call the following number: 1-800-555-1212.\\nWhen you call, be prepared to provide the following information:\\nYour name and contact information\\nYour vehicle's make, model, and year\\nYour vehicle's location\\nThe nature of the emergency\\nTire Repair Kit\\nYour Cymbal Starlight 2024 comes with a tire repair kit that can be used to temporarily repair a flat\\ntire.\\nThe tire repair kit is located in the trunk of the vehicle.\\nTo use the tire repair kit, follow the instructions provided in the kit.\\nOther Emergency Tips\\nIf you are involved in an accident, remain calm and call 911 immediately.\\nIf you are able to move your vehicle, pull over to the side of the road and turn on your hazard lights.\"),\n",
              " Document(metadata={'doc_id': 'a526d7ed43be4155ae3d58ae0c6c858e', 'source': 'github-repo/generative-ai/sample-apps/', 'document_name': 'cymbal-starlight-2024.pdf', 'chunk': 7, 'score': 0.7326594637414046}, page_content='the safety features in your Cymbal Starlight 2024. This chapter provides important information on how to\\nuse the following emergency assistance features:\\nHazard lights\\nHorn\\nEmergency roadside assistance\\nTire repair kit\\nHazard Lights'),\n",
              " Document(metadata={'doc_id': 'be2353e1473647769d9abc79c3094461', 'source': 'github-repo/generative-ai/sample-apps/', 'document_name': 'cymbal-starlight-2024.pdf', 'chunk': 8, 'score': 0.7508196909679453}, page_content=\"manual.md 2024-03-23\\n4 / 22The hazard lights are used to signal to other drivers that your vehicle is disabled or in an emergency\\nsituation.\\nTo activate the hazard lights, press the hazard light button located on the dashboard.\\nThe hazard lights will flash until you press the button again to turn them off.\\nHorn\\nThe horn is used to alert other drivers and pedestrians of your presence.\\nTo sound the horn, press the horn button located on the steering wheel.\\nEmergency Roadside Assistance\\nYour Cymbal Starlight 2024 comes with 24/7 emergency roadside assistance.\\nTo contact emergency roadside assistance, call the following number: 1-800-555-1212.\\nWhen you call, be prepared to provide the following information:\\nYour name and contact information\\nYour vehicle's make, model, and year\\nYour vehicle's location\\nThe nature of the emergency\\nTire Repair Kit\\nYour Cymbal Starlight 2024 comes with a tire repair kit that can be used to temporarily repair a flat\\ntire.\")]"
            ]
          },
          "metadata": {},
          "execution_count": 16
        }
      ],
      "source": [
        "bq_store.similarity_search(\n",
        "    \"What should I do when I call the emergency roadside assistance?\"\n",
        ")"
      ]
    },
    {
      "cell_type": "markdown",
      "metadata": {
        "id": "z4Zz3PUFlxrT"
      },
      "source": [
        "### Get a langchain retriever\n",
        "The retriever will be used in a LangChain Chain to find the most similar documents for a given query."
      ]
    },
    {
      "cell_type": "code",
      "execution_count": 17,
      "metadata": {
        "id": "F9mSL5o-lxrT"
      },
      "outputs": [],
      "source": [
        "langchain_retriever = bq_store.as_retriever()"
      ]
    },
    {
      "cell_type": "markdown",
      "metadata": {
        "id": "lWroxQMflxrT"
      },
      "source": [
        "### Compose a LangChain Chain\n",
        "\n",
        "We are going to use the [`RetrievalQA` chain](https://python.langchain.com/docs/modules/chains/popular/vector_db_qa)\n",
        "There are several different chain types available, listed [here](https://docs.langchain.com/docs/components/chains/index_related_chains)."
      ]
    },
    {
      "cell_type": "code",
      "execution_count": 20,
      "metadata": {
        "id": "-eZsLYIPlxrT",
        "outputId": "55f51416-0060-4f95-889f-f04beb8b50f5",
        "colab": {
          "base_uri": "https://localhost:8080/"
        }
      },
      "outputs": [
        {
          "output_type": "stream",
          "name": "stdout",
          "text": [
            "\u001b[32;1m\u001b[1;3m[chain/start]\u001b[0m \u001b[1m[chain:RetrievalQA] Entering Chain run with input:\n",
            "\u001b[0m{\n",
            "  \"query\": \"What should I do when calling the emergency roadside assistance?\"\n",
            "}\n",
            "\u001b[32;1m\u001b[1;3m[chain/start]\u001b[0m \u001b[1m[chain:RetrievalQA > chain:StuffDocumentsChain] Entering Chain run with input:\n",
            "\u001b[0m[inputs]\n",
            "\u001b[32;1m\u001b[1;3m[chain/start]\u001b[0m \u001b[1m[chain:RetrievalQA > chain:StuffDocumentsChain > chain:LLMChain] Entering Chain run with input:\n",
            "\u001b[0m{\n",
            "  \"question\": \"What should I do when calling the emergency roadside assistance?\",\n",
            "  \"context\": \"manual.md 2024-03-23\\n21 / 22Wash your vehicle regularly to remove dirt and grime.\\nWax your vehicle twice a year to protect the paint.\\nCheck the tire pressure regularly and adjust it as needed.\\nInspect the brakes regularly for wear and tear.\\nKeep the interior of your vehicle clean and free of debris.\\nBy following these tips, you can help to keep your Cymbal Starlight 2024 in top condition for many years to\\ncome.\\nChapter 18: Emergencies\\nRoadside Assistance\\nIf you experience a roadside emergency, such as a flat tire or a dead battery, you can call roadside\\nassistance for help. Roadside assistance is available 24 hours a day, 7 days a week.\\nTo call roadside assistance, dial the following number:\\n1-800-555-1212\\nWhen you call roadside assistance, be prepared to provide the following information:\\nYour name and contact information\\nYour vehicle's make, model, and year\\nYour vehicle's location\\nThe nature of the emergency\\nFlat Tire\\n\\nStay in your vehicle and wait for emergency services to arrive.\\nIf you are stranded in a remote area, stay with your vehicle and try to attract attention by waving your\\narms or using a flashlight.\\n\\nHorn\\nThe horn is used to alert other drivers and pedestrians of your presence.\\nTo sound the horn, press the horn button located on the steering wheel.\\nEmergency Roadside Assistance\\nYour Cymbal Starlight 2024 comes with 24/7 emergency roadside assistance.\\nTo contact emergency roadside assistance, call the following number: 1-800-555-1212.\\nWhen you call, be prepared to provide the following information:\\nYour name and contact information\\nYour vehicle's make, model, and year\\nYour vehicle's location\\nThe nature of the emergency\\nTire Repair Kit\\nYour Cymbal Starlight 2024 comes with a tire repair kit that can be used to temporarily repair a flat\\ntire.\\nThe tire repair kit is located in the trunk of the vehicle.\\nTo use the tire repair kit, follow the instructions provided in the kit.\\nOther Emergency Tips\\nIf you are involved in an accident, remain calm and call 911 immediately.\\nIf you are able to move your vehicle, pull over to the side of the road and turn on your hazard lights.\\n\\nthe safety features in your Cymbal Starlight 2024. This chapter provides important information on how to\\nuse the following emergency assistance features:\\nHazard lights\\nHorn\\nEmergency roadside assistance\\nTire repair kit\\nHazard Lights\\n\\nThe nature of the emergency\\nFlat Tire\\nIf you experience a flat tire, pull over to the side of the road in a safe location. Turn on your hazard lights and\\nset out flares or reflective triangles to warn other drivers.\\nTo change a flat tire, follow these steps:\\n\\u0000. Gather the necessary tools, including a jack, lug wrench, and spare tire.\\n\\u0000. Loosen the lug nuts on the flat tire, but do not remove them completely.\\n\\u0000. Position the jack next to the flat tire and raise the vehicle until there is approximately 6 inches of\\nclearance between the ground and the flat tire.\\n\\u0000. Remove the lug nuts and take off the flat tire.\\n\\u0000. Mount the spare tire on the wheel studs and tighten the lug nuts.\\n\\u0000. Lower the vehicle to the ground and tighten the lug nuts further.\\n\\u0000. Stow the flat tire and tools in the trunk.\\nDead Battery\\nIf your battery is dead, you can jump-start your vehicle using another vehicle. To jump-start your vehicle,\\nfollow these steps:\\n\\u0000. Park the other vehicle close to yours.\"\n",
            "}\n",
            "\u001b[32;1m\u001b[1;3m[llm/start]\u001b[0m \u001b[1m[chain:RetrievalQA > chain:StuffDocumentsChain > chain:LLMChain > llm:VertexAI] Entering LLM run with input:\n",
            "\u001b[0m{\n",
            "  \"prompts\": [\n",
            "    \"Use the following pieces of context to answer the question at the end. If you don't know the answer, just say that you don't know, don't try to make up an answer.\\n\\nmanual.md 2024-03-23\\n21 / 22Wash your vehicle regularly to remove dirt and grime.\\nWax your vehicle twice a year to protect the paint.\\nCheck the tire pressure regularly and adjust it as needed.\\nInspect the brakes regularly for wear and tear.\\nKeep the interior of your vehicle clean and free of debris.\\nBy following these tips, you can help to keep your Cymbal Starlight 2024 in top condition for many years to\\ncome.\\nChapter 18: Emergencies\\nRoadside Assistance\\nIf you experience a roadside emergency, such as a flat tire or a dead battery, you can call roadside\\nassistance for help. Roadside assistance is available 24 hours a day, 7 days a week.\\nTo call roadside assistance, dial the following number:\\n1-800-555-1212\\nWhen you call roadside assistance, be prepared to provide the following information:\\nYour name and contact information\\nYour vehicle's make, model, and year\\nYour vehicle's location\\nThe nature of the emergency\\nFlat Tire\\n\\nStay in your vehicle and wait for emergency services to arrive.\\nIf you are stranded in a remote area, stay with your vehicle and try to attract attention by waving your\\narms or using a flashlight.\\n\\nHorn\\nThe horn is used to alert other drivers and pedestrians of your presence.\\nTo sound the horn, press the horn button located on the steering wheel.\\nEmergency Roadside Assistance\\nYour Cymbal Starlight 2024 comes with 24/7 emergency roadside assistance.\\nTo contact emergency roadside assistance, call the following number: 1-800-555-1212.\\nWhen you call, be prepared to provide the following information:\\nYour name and contact information\\nYour vehicle's make, model, and year\\nYour vehicle's location\\nThe nature of the emergency\\nTire Repair Kit\\nYour Cymbal Starlight 2024 comes with a tire repair kit that can be used to temporarily repair a flat\\ntire.\\nThe tire repair kit is located in the trunk of the vehicle.\\nTo use the tire repair kit, follow the instructions provided in the kit.\\nOther Emergency Tips\\nIf you are involved in an accident, remain calm and call 911 immediately.\\nIf you are able to move your vehicle, pull over to the side of the road and turn on your hazard lights.\\n\\nthe safety features in your Cymbal Starlight 2024. This chapter provides important information on how to\\nuse the following emergency assistance features:\\nHazard lights\\nHorn\\nEmergency roadside assistance\\nTire repair kit\\nHazard Lights\\n\\nThe nature of the emergency\\nFlat Tire\\nIf you experience a flat tire, pull over to the side of the road in a safe location. Turn on your hazard lights and\\nset out flares or reflective triangles to warn other drivers.\\nTo change a flat tire, follow these steps:\\n\\u0000. Gather the necessary tools, including a jack, lug wrench, and spare tire.\\n\\u0000. Loosen the lug nuts on the flat tire, but do not remove them completely.\\n\\u0000. Position the jack next to the flat tire and raise the vehicle until there is approximately 6 inches of\\nclearance between the ground and the flat tire.\\n\\u0000. Remove the lug nuts and take off the flat tire.\\n\\u0000. Mount the spare tire on the wheel studs and tighten the lug nuts.\\n\\u0000. Lower the vehicle to the ground and tighten the lug nuts further.\\n\\u0000. Stow the flat tire and tools in the trunk.\\nDead Battery\\nIf your battery is dead, you can jump-start your vehicle using another vehicle. To jump-start your vehicle,\\nfollow these steps:\\n\\u0000. Park the other vehicle close to yours.\\n\\nQuestion: What should I do when calling the emergency roadside assistance?\\nHelpful Answer:\"\n",
            "  ]\n",
            "}\n",
            "\u001b[36;1m\u001b[1;3m[llm/end]\u001b[0m \u001b[1m[chain:RetrievalQA > chain:StuffDocumentsChain > chain:LLMChain > llm:VertexAI] [1.31s] Exiting LLM run with output:\n",
            "\u001b[0m{\n",
            "  \"generations\": [\n",
            "    [\n",
            "      {\n",
            "        \"text\": \"When calling for emergency roadside assistance you should be prepared with:\\n\\n- Your name\\n- Contact information\\n- Make\\n- Model\\n- Year \\n- Location of the car\\n- Nature of the issue\",\n",
            "        \"generation_info\": {\n",
            "          \"is_blocked\": false,\n",
            "          \"safety_ratings\": [\n",
            "            {\n",
            "              \"category\": \"HARM_CATEGORY_HATE_SPEECH\",\n",
            "              \"probability_label\": \"NEGLIGIBLE\",\n",
            "              \"probability_score\": 0.119140625,\n",
            "              \"blocked\": false,\n",
            "              \"severity\": \"HARM_SEVERITY_NEGLIGIBLE\",\n",
            "              \"severity_score\": 0.130859375\n",
            "            },\n",
            "            {\n",
            "              \"category\": \"HARM_CATEGORY_DANGEROUS_CONTENT\",\n",
            "              \"probability_label\": \"NEGLIGIBLE\",\n",
            "              \"probability_score\": 0.419921875,\n",
            "              \"blocked\": false,\n",
            "              \"severity\": \"HARM_SEVERITY_NEGLIGIBLE\",\n",
            "              \"severity_score\": 0.166015625\n",
            "            },\n",
            "            {\n",
            "              \"category\": \"HARM_CATEGORY_HARASSMENT\",\n",
            "              \"probability_label\": \"NEGLIGIBLE\",\n",
            "              \"probability_score\": 0.2177734375,\n",
            "              \"blocked\": false,\n",
            "              \"severity\": \"HARM_SEVERITY_NEGLIGIBLE\",\n",
            "              \"severity_score\": 0.10986328125\n",
            "            },\n",
            "            {\n",
            "              \"category\": \"HARM_CATEGORY_SEXUALLY_EXPLICIT\",\n",
            "              \"probability_label\": \"NEGLIGIBLE\",\n",
            "              \"probability_score\": 0.07177734375,\n",
            "              \"blocked\": false,\n",
            "              \"severity\": \"HARM_SEVERITY_NEGLIGIBLE\",\n",
            "              \"severity_score\": 0.0634765625\n",
            "            }\n",
            "          ],\n",
            "          \"usage_metadata\": {\n",
            "            \"prompt_token_count\": 862,\n",
            "            \"candidates_token_count\": 42,\n",
            "            \"total_token_count\": 904\n",
            "          },\n",
            "          \"finish_reason\": \"STOP\",\n",
            "          \"avg_logprobs\": -1.0988605135963077\n",
            "        },\n",
            "        \"type\": \"Generation\"\n",
            "      }\n",
            "    ]\n",
            "  ],\n",
            "  \"llm_output\": null,\n",
            "  \"run\": null,\n",
            "  \"type\": \"LLMResult\"\n",
            "}\n",
            "\u001b[36;1m\u001b[1;3m[chain/end]\u001b[0m \u001b[1m[chain:RetrievalQA > chain:StuffDocumentsChain > chain:LLMChain] [1.31s] Exiting Chain run with output:\n",
            "\u001b[0m{\n",
            "  \"text\": \"When calling for emergency roadside assistance you should be prepared with:\\n\\n- Your name\\n- Contact information\\n- Make\\n- Model\\n- Year \\n- Location of the car\\n- Nature of the issue\"\n",
            "}\n",
            "\u001b[36;1m\u001b[1;3m[chain/end]\u001b[0m \u001b[1m[chain:RetrievalQA > chain:StuffDocumentsChain] [1.31s] Exiting Chain run with output:\n",
            "\u001b[0m{\n",
            "  \"output_text\": \"When calling for emergency roadside assistance you should be prepared with:\\n\\n- Your name\\n- Contact information\\n- Make\\n- Model\\n- Year \\n- Location of the car\\n- Nature of the issue\"\n",
            "}\n",
            "\u001b[36;1m\u001b[1;3m[chain/end]\u001b[0m \u001b[1m[chain:RetrievalQA] [2.34s] Exiting Chain run with output:\n",
            "\u001b[0m{\n",
            "  \"result\": \"When calling for emergency roadside assistance you should be prepared with:\\n\\n- Your name\\n- Contact information\\n- Make\\n- Model\\n- Year \\n- Location of the car\\n- Nature of the issue\"\n",
            "}\n",
            "\n",
            "################ Final Answer ################\n",
            "\n",
            "When calling for emergency roadside assistance you should be prepared with:\n",
            "\n",
            "- Your name\n",
            "- Contact information\n",
            "- Make\n",
            "- Model\n",
            "- Year \n",
            "- Location of the car\n",
            "- Nature of the issue\n"
          ]
        }
      ],
      "source": [
        "# Set high verbosity\n",
        "set_debug(True)\n",
        "\n",
        "llm = VertexAI(model_name=\"gemini-pro\")\n",
        "\n",
        "search_query = \"What should I do when calling the emergency roadside assistance?\"  # @param {type:\"string\"}\n",
        "\n",
        "retrieval_qa = RetrievalQA.from_chain_type(\n",
        "    llm=llm, chain_type=\"stuff\", retriever=langchain_retriever\n",
        ")\n",
        "response = retrieval_qa.invoke(search_query)\n",
        "print(\"\\n################ Final Answer ################\\n\")\n",
        "print(response[\"result\"])"
      ]
    },
    {
      "cell_type": "markdown",
      "metadata": {
        "id": "VcyOdT0tlxrX"
      },
      "source": [
        "### Filtering by metadata\n",
        "\n",
        "It is possible to post-filter results by metadata by passing the filter parameter to any search method\n",
        "\n",
        "`VertexFSVectorStore` also support metadata filter while performing search, for this to work:\n",
        "- the `filter_columns` parameter must be passed to `VertexFSVectorStore` when the online feature store feature view is created (first time the class is initialised with a given online store name and feature view name).\n",
        "\n",
        "- the `string_filters` parameter must be passed to any search method. Note only string fields are supported at the moment. See [here](https://github.com/googleapis/python-aiplatform/blob/8a4a41afe47aaff2f69a73e5011b34bcba5cd2e9/google/cloud/aiplatform_v1beta1/types/feature_online_store_service.py#L345)"
      ]
    },
    {
      "cell_type": "code",
      "execution_count": 21,
      "metadata": {
        "id": "swpQFcdclxrX",
        "outputId": "b14afb39-ccc7-4b85-fe47-964adfb295d9",
        "colab": {
          "base_uri": "https://localhost:8080/"
        }
      },
      "outputs": [
        {
          "output_type": "execute_result",
          "data": {
            "text/plain": [
              "[Document(metadata={'doc_id': '625a716e9ca44b00a91a9232df5f6975', 'source': 'github-repo/generative-ai/sample-apps/', 'document_name': 'cymbal-starlight-2024.pdf', 'chunk': 28, 'score': 0.6867311598638806}, page_content='Stay in your vehicle and wait for emergency services to arrive.\\nIf you are stranded in a remote area, stay with your vehicle and try to attract attention by waving your\\narms or using a flashlight.')]"
            ]
          },
          "metadata": {},
          "execution_count": 21
        }
      ],
      "source": [
        "bq_store.similarity_search(search_query, filter={\"chunk\": 28})"
      ]
    },
    {
      "cell_type": "markdown",
      "source": [
        "##Retrieval with memory\n",
        "\n",
        "Now let’s take a slightly more sophisticated example. We will use the ConversationalRetrievalChain. This still uses BigQuery Vector Search, but persists previous conversation history in memory and adds it as context to the LLM response. This provides a conversational capability with your data."
      ],
      "metadata": {
        "id": "2J9DQxlyX8TR"
      }
    },
    {
      "cell_type": "code",
      "source": [
        "from langchain.chains import ConversationalRetrievalChain\n",
        "from langchain.memory import ConversationBufferMemory\n",
        "\n",
        "memory = ConversationBufferMemory(memory_key=\"chat_history\", return_messages=True)\n",
        "conversational_retrieval = ConversationalRetrievalChain.from_llm(\n",
        "    llm=llm, retriever=langchain_retriever, memory=memory\n",
        ")\n",
        "\n",
        "search_query = \"Does the Cymbal Starlight have roadside assistance?\"\n",
        "\n",
        "conversational_retrieval.invoke(search_query)[\"answer\"]\n"
      ],
      "metadata": {
        "id": "QOvpJ8w8YO1l",
        "outputId": "dcb087cb-5595-4c27-fd70-3a9d34b76411",
        "colab": {
          "base_uri": "https://localhost:8080/",
          "height": 1000
        }
      },
      "execution_count": 28,
      "outputs": [
        {
          "output_type": "stream",
          "name": "stdout",
          "text": [
            "\u001b[32;1m\u001b[1;3m[chain/start]\u001b[0m \u001b[1m[chain:ConversationalRetrievalChain] Entering Chain run with input:\n",
            "\u001b[0m{\n",
            "  \"question\": \"Does the Cymbal Starlight have roadside assistance?\",\n",
            "  \"chat_history\": []\n",
            "}\n",
            "\u001b[32;1m\u001b[1;3m[chain/start]\u001b[0m \u001b[1m[chain:ConversationalRetrievalChain > chain:StuffDocumentsChain] Entering Chain run with input:\n",
            "\u001b[0m[inputs]\n",
            "\u001b[32;1m\u001b[1;3m[chain/start]\u001b[0m \u001b[1m[chain:ConversationalRetrievalChain > chain:StuffDocumentsChain > chain:LLMChain] Entering Chain run with input:\n",
            "\u001b[0m{\n",
            "  \"question\": \"Does the Cymbal Starlight have roadside assistance?\",\n",
            "  \"context\": \"the safety features in your Cymbal Starlight 2024. This chapter provides important information on how to\\nuse the following emergency assistance features:\\nHazard lights\\nHorn\\nEmergency roadside assistance\\nTire repair kit\\nHazard Lights\\n\\nHorn\\nThe horn is used to alert other drivers and pedestrians of your presence.\\nTo sound the horn, press the horn button located on the steering wheel.\\nEmergency Roadside Assistance\\nYour Cymbal Starlight 2024 comes with 24/7 emergency roadside assistance.\\nTo contact emergency roadside assistance, call the following number: 1-800-555-1212.\\nWhen you call, be prepared to provide the following information:\\nYour name and contact information\\nYour vehicle's make, model, and year\\nYour vehicle's location\\nThe nature of the emergency\\nTire Repair Kit\\nYour Cymbal Starlight 2024 comes with a tire repair kit that can be used to temporarily repair a flat\\ntire.\\nThe tire repair kit is located in the trunk of the vehicle.\\nTo use the tire repair kit, follow the instructions provided in the kit.\\nOther Emergency Tips\\nIf you are involved in an accident, remain calm and call 911 immediately.\\nIf you are able to move your vehicle, pull over to the side of the road and turn on your hazard lights.\\n\\nmanual.md 2024-03-23\\n21 / 22Wash your vehicle regularly to remove dirt and grime.\\nWax your vehicle twice a year to protect the paint.\\nCheck the tire pressure regularly and adjust it as needed.\\nInspect the brakes regularly for wear and tear.\\nKeep the interior of your vehicle clean and free of debris.\\nBy following these tips, you can help to keep your Cymbal Starlight 2024 in top condition for many years to\\ncome.\\nChapter 18: Emergencies\\nRoadside Assistance\\nIf you experience a roadside emergency, such as a flat tire or a dead battery, you can call roadside\\nassistance for help. Roadside assistance is available 24 hours a day, 7 days a week.\\nTo call roadside assistance, dial the following number:\\n1-800-555-1212\\nWhen you call roadside assistance, be prepared to provide the following information:\\nYour name and contact information\\nYour vehicle's make, model, and year\\nYour vehicle's location\\nThe nature of the emergency\\nFlat Tire\\n\\nmanual.md 2024-03-23\\n4 / 22The hazard lights are used to signal to other drivers that your vehicle is disabled or in an emergency\\nsituation.\\nTo activate the hazard lights, press the hazard light button located on the dashboard.\\nThe hazard lights will flash until you press the button again to turn them off.\\nHorn\\nThe horn is used to alert other drivers and pedestrians of your presence.\\nTo sound the horn, press the horn button located on the steering wheel.\\nEmergency Roadside Assistance\\nYour Cymbal Starlight 2024 comes with 24/7 emergency roadside assistance.\\nTo contact emergency roadside assistance, call the following number: 1-800-555-1212.\\nWhen you call, be prepared to provide the following information:\\nYour name and contact information\\nYour vehicle's make, model, and year\\nYour vehicle's location\\nThe nature of the emergency\\nTire Repair Kit\\nYour Cymbal Starlight 2024 comes with a tire repair kit that can be used to temporarily repair a flat\\ntire.\\n\\nmanual.md 2024-03-23\\n10 / 22The automatic support system may not be able to detect all potential hazards. Always drive\\ndefensively and be prepared to react to unexpected situations.\\nBy following these tips, you can safely and effectively use the cruise control and automatic support system\\nin your Cymbal Starlight 2024.\\nIn the event of an emergency, it is important to know how to contact emergency services and how to use\\nthe safety features in your Cymbal Starlight 2024. This chapter provides important information on how to\\nuse the following emergency assistance features:\\nHazard lights\\nHorn\\nEmergency roadside assistance\\nTire repair kit\\nHazard Lights\\nThe hazard lights are used to signal to other drivers that your vehicle is disabled or in an emergency\\nsituation.\\nTo activate the hazard lights, press the hazard light button located on the dashboard.\\nThe hazard lights will flash until you press the button again to turn them off.\\nHorn\"\n",
            "}\n",
            "\u001b[32;1m\u001b[1;3m[llm/start]\u001b[0m \u001b[1m[chain:ConversationalRetrievalChain > chain:StuffDocumentsChain > chain:LLMChain > llm:VertexAI] Entering LLM run with input:\n",
            "\u001b[0m{\n",
            "  \"prompts\": [\n",
            "    \"Use the following pieces of context to answer the question at the end. If you don't know the answer, just say that you don't know, don't try to make up an answer.\\n\\nthe safety features in your Cymbal Starlight 2024. This chapter provides important information on how to\\nuse the following emergency assistance features:\\nHazard lights\\nHorn\\nEmergency roadside assistance\\nTire repair kit\\nHazard Lights\\n\\nHorn\\nThe horn is used to alert other drivers and pedestrians of your presence.\\nTo sound the horn, press the horn button located on the steering wheel.\\nEmergency Roadside Assistance\\nYour Cymbal Starlight 2024 comes with 24/7 emergency roadside assistance.\\nTo contact emergency roadside assistance, call the following number: 1-800-555-1212.\\nWhen you call, be prepared to provide the following information:\\nYour name and contact information\\nYour vehicle's make, model, and year\\nYour vehicle's location\\nThe nature of the emergency\\nTire Repair Kit\\nYour Cymbal Starlight 2024 comes with a tire repair kit that can be used to temporarily repair a flat\\ntire.\\nThe tire repair kit is located in the trunk of the vehicle.\\nTo use the tire repair kit, follow the instructions provided in the kit.\\nOther Emergency Tips\\nIf you are involved in an accident, remain calm and call 911 immediately.\\nIf you are able to move your vehicle, pull over to the side of the road and turn on your hazard lights.\\n\\nmanual.md 2024-03-23\\n21 / 22Wash your vehicle regularly to remove dirt and grime.\\nWax your vehicle twice a year to protect the paint.\\nCheck the tire pressure regularly and adjust it as needed.\\nInspect the brakes regularly for wear and tear.\\nKeep the interior of your vehicle clean and free of debris.\\nBy following these tips, you can help to keep your Cymbal Starlight 2024 in top condition for many years to\\ncome.\\nChapter 18: Emergencies\\nRoadside Assistance\\nIf you experience a roadside emergency, such as a flat tire or a dead battery, you can call roadside\\nassistance for help. Roadside assistance is available 24 hours a day, 7 days a week.\\nTo call roadside assistance, dial the following number:\\n1-800-555-1212\\nWhen you call roadside assistance, be prepared to provide the following information:\\nYour name and contact information\\nYour vehicle's make, model, and year\\nYour vehicle's location\\nThe nature of the emergency\\nFlat Tire\\n\\nmanual.md 2024-03-23\\n4 / 22The hazard lights are used to signal to other drivers that your vehicle is disabled or in an emergency\\nsituation.\\nTo activate the hazard lights, press the hazard light button located on the dashboard.\\nThe hazard lights will flash until you press the button again to turn them off.\\nHorn\\nThe horn is used to alert other drivers and pedestrians of your presence.\\nTo sound the horn, press the horn button located on the steering wheel.\\nEmergency Roadside Assistance\\nYour Cymbal Starlight 2024 comes with 24/7 emergency roadside assistance.\\nTo contact emergency roadside assistance, call the following number: 1-800-555-1212.\\nWhen you call, be prepared to provide the following information:\\nYour name and contact information\\nYour vehicle's make, model, and year\\nYour vehicle's location\\nThe nature of the emergency\\nTire Repair Kit\\nYour Cymbal Starlight 2024 comes with a tire repair kit that can be used to temporarily repair a flat\\ntire.\\n\\nmanual.md 2024-03-23\\n10 / 22The automatic support system may not be able to detect all potential hazards. Always drive\\ndefensively and be prepared to react to unexpected situations.\\nBy following these tips, you can safely and effectively use the cruise control and automatic support system\\nin your Cymbal Starlight 2024.\\nIn the event of an emergency, it is important to know how to contact emergency services and how to use\\nthe safety features in your Cymbal Starlight 2024. This chapter provides important information on how to\\nuse the following emergency assistance features:\\nHazard lights\\nHorn\\nEmergency roadside assistance\\nTire repair kit\\nHazard Lights\\nThe hazard lights are used to signal to other drivers that your vehicle is disabled or in an emergency\\nsituation.\\nTo activate the hazard lights, press the hazard light button located on the dashboard.\\nThe hazard lights will flash until you press the button again to turn them off.\\nHorn\\n\\nQuestion: Does the Cymbal Starlight have roadside assistance?\\nHelpful Answer:\"\n",
            "  ]\n",
            "}\n",
            "\u001b[36;1m\u001b[1;3m[llm/end]\u001b[0m \u001b[1m[chain:ConversationalRetrievalChain > chain:StuffDocumentsChain > chain:LLMChain > llm:VertexAI] [1.17s] Exiting LLM run with output:\n",
            "\u001b[0m{\n",
            "  \"generations\": [\n",
            "    [\n",
            "      {\n",
            "        \"text\": \"Yes, the Cymbal Starlight 2024 comes with 24/7 emergency roadside assistance. If you experience a flat tire or a dead battery, you can call 1-800-555-1212 for help.\",\n",
            "        \"generation_info\": {\n",
            "          \"is_blocked\": false,\n",
            "          \"safety_ratings\": [\n",
            "            {\n",
            "              \"category\": \"HARM_CATEGORY_HATE_SPEECH\",\n",
            "              \"probability_label\": \"NEGLIGIBLE\",\n",
            "              \"probability_score\": 0.12109375,\n",
            "              \"blocked\": false,\n",
            "              \"severity\": \"HARM_SEVERITY_NEGLIGIBLE\",\n",
            "              \"severity_score\": 0.126953125\n",
            "            },\n",
            "            {\n",
            "              \"category\": \"HARM_CATEGORY_DANGEROUS_CONTENT\",\n",
            "              \"probability_label\": \"NEGLIGIBLE\",\n",
            "              \"probability_score\": 0.328125,\n",
            "              \"blocked\": false,\n",
            "              \"severity\": \"HARM_SEVERITY_LOW\",\n",
            "              \"severity_score\": 0.373046875\n",
            "            },\n",
            "            {\n",
            "              \"category\": \"HARM_CATEGORY_HARASSMENT\",\n",
            "              \"probability_label\": \"NEGLIGIBLE\",\n",
            "              \"probability_score\": 0.25390625,\n",
            "              \"blocked\": false,\n",
            "              \"severity\": \"HARM_SEVERITY_NEGLIGIBLE\",\n",
            "              \"severity_score\": 0.1689453125\n",
            "            },\n",
            "            {\n",
            "              \"category\": \"HARM_CATEGORY_SEXUALLY_EXPLICIT\",\n",
            "              \"probability_label\": \"NEGLIGIBLE\",\n",
            "              \"probability_score\": 0.0654296875,\n",
            "              \"blocked\": false,\n",
            "              \"severity\": \"HARM_SEVERITY_NEGLIGIBLE\",\n",
            "              \"severity_score\": 0.09521484375\n",
            "            }\n",
            "          ],\n",
            "          \"usage_metadata\": {\n",
            "            \"prompt_token_count\": 1030,\n",
            "            \"candidates_token_count\": 54,\n",
            "            \"total_token_count\": 1084\n",
            "          },\n",
            "          \"finish_reason\": \"STOP\",\n",
            "          \"avg_logprobs\": -0.2548498930754485\n",
            "        },\n",
            "        \"type\": \"Generation\"\n",
            "      }\n",
            "    ]\n",
            "  ],\n",
            "  \"llm_output\": null,\n",
            "  \"run\": null,\n",
            "  \"type\": \"LLMResult\"\n",
            "}\n",
            "\u001b[36;1m\u001b[1;3m[chain/end]\u001b[0m \u001b[1m[chain:ConversationalRetrievalChain > chain:StuffDocumentsChain > chain:LLMChain] [1.17s] Exiting Chain run with output:\n",
            "\u001b[0m{\n",
            "  \"text\": \"Yes, the Cymbal Starlight 2024 comes with 24/7 emergency roadside assistance. If you experience a flat tire or a dead battery, you can call 1-800-555-1212 for help.\"\n",
            "}\n",
            "\u001b[36;1m\u001b[1;3m[chain/end]\u001b[0m \u001b[1m[chain:ConversationalRetrievalChain > chain:StuffDocumentsChain] [1.17s] Exiting Chain run with output:\n",
            "\u001b[0m{\n",
            "  \"output_text\": \"Yes, the Cymbal Starlight 2024 comes with 24/7 emergency roadside assistance. If you experience a flat tire or a dead battery, you can call 1-800-555-1212 for help.\"\n",
            "}\n",
            "\u001b[36;1m\u001b[1;3m[chain/end]\u001b[0m \u001b[1m[chain:ConversationalRetrievalChain] [2.19s] Exiting Chain run with output:\n",
            "\u001b[0m{\n",
            "  \"answer\": \"Yes, the Cymbal Starlight 2024 comes with 24/7 emergency roadside assistance. If you experience a flat tire or a dead battery, you can call 1-800-555-1212 for help.\"\n",
            "}\n"
          ]
        },
        {
          "output_type": "execute_result",
          "data": {
            "text/plain": [
              "'Yes, the Cymbal Starlight 2024 comes with 24/7 emergency roadside assistance. If you experience a flat tire or a dead battery, you can call 1-800-555-1212 for help.'"
            ],
            "application/vnd.google.colaboratory.intrinsic+json": {
              "type": "string"
            }
          },
          "metadata": {},
          "execution_count": 28
        }
      ]
    },
    {
      "cell_type": "markdown",
      "source": [
        "We can then ask a follow up question without needing to provide much additional context, because the last question and answer are already passed through."
      ],
      "metadata": {
        "id": "2EUj-HGTZS8a"
      }
    },
    {
      "cell_type": "code",
      "source": [
        "new_query = \"What number do I call?\"\n",
        "\n",
        "result = conversational_retrieval.invoke(new_query)\n",
        "\n",
        "print(result[\"answer\"])"
      ],
      "metadata": {
        "id": "jOYbuk4GZQTr",
        "outputId": "01149bc3-ac89-4019-ac24-3eba03f545cb",
        "colab": {
          "base_uri": "https://localhost:8080/"
        }
      },
      "execution_count": 30,
      "outputs": [
        {
          "output_type": "stream",
          "name": "stdout",
          "text": [
            "\u001b[32;1m\u001b[1;3m[chain/start]\u001b[0m \u001b[1m[chain:ConversationalRetrievalChain] Entering Chain run with input:\n",
            "\u001b[0m[inputs]\n",
            "\u001b[32;1m\u001b[1;3m[chain/start]\u001b[0m \u001b[1m[chain:ConversationalRetrievalChain > chain:LLMChain] Entering Chain run with input:\n",
            "\u001b[0m{\n",
            "  \"question\": \"What number do I call?\",\n",
            "  \"chat_history\": \"\\nHuman: Does the Cymbal Starlight have roadside assistance?\\nAssistant: Yes, the Cymbal Starlight 2024 comes with 24/7 emergency roadside assistance. If you experience a flat tire or a dead battery, you can call 1-800-555-1212 for help.\"\n",
            "}\n",
            "\u001b[32;1m\u001b[1;3m[llm/start]\u001b[0m \u001b[1m[chain:ConversationalRetrievalChain > chain:LLMChain > llm:VertexAI] Entering LLM run with input:\n",
            "\u001b[0m{\n",
            "  \"prompts\": [\n",
            "    \"Given the following conversation and a follow up question, rephrase the follow up question to be a standalone question, in its original language.\\n\\nChat History:\\n\\nHuman: Does the Cymbal Starlight have roadside assistance?\\nAssistant: Yes, the Cymbal Starlight 2024 comes with 24/7 emergency roadside assistance. If you experience a flat tire or a dead battery, you can call 1-800-555-1212 for help.\\nFollow Up Input: What number do I call?\\nStandalone question:\"\n",
            "  ]\n",
            "}\n",
            "\u001b[36;1m\u001b[1;3m[llm/end]\u001b[0m \u001b[1m[chain:ConversationalRetrievalChain > chain:LLMChain > llm:VertexAI] [683ms] Exiting LLM run with output:\n",
            "\u001b[0m{\n",
            "  \"generations\": [\n",
            "    [\n",
            "      {\n",
            "        \"text\": \"What is the number for roadside assistance?\",\n",
            "        \"generation_info\": {\n",
            "          \"is_blocked\": false,\n",
            "          \"safety_ratings\": [\n",
            "            {\n",
            "              \"category\": \"HARM_CATEGORY_HATE_SPEECH\",\n",
            "              \"probability_label\": \"NEGLIGIBLE\",\n",
            "              \"probability_score\": 0.040283203125,\n",
            "              \"blocked\": false,\n",
            "              \"severity\": \"HARM_SEVERITY_NEGLIGIBLE\",\n",
            "              \"severity_score\": 0.0888671875\n",
            "            },\n",
            "            {\n",
            "              \"category\": \"HARM_CATEGORY_DANGEROUS_CONTENT\",\n",
            "              \"probability_label\": \"NEGLIGIBLE\",\n",
            "              \"probability_score\": 0.1298828125,\n",
            "              \"blocked\": false,\n",
            "              \"severity\": \"HARM_SEVERITY_NEGLIGIBLE\",\n",
            "              \"severity_score\": 0.1259765625\n",
            "            },\n",
            "            {\n",
            "              \"category\": \"HARM_CATEGORY_HARASSMENT\",\n",
            "              \"probability_label\": \"NEGLIGIBLE\",\n",
            "              \"probability_score\": 0.111328125,\n",
            "              \"blocked\": false,\n",
            "              \"severity\": \"HARM_SEVERITY_NEGLIGIBLE\",\n",
            "              \"severity_score\": 0.037353515625\n",
            "            },\n",
            "            {\n",
            "              \"category\": \"HARM_CATEGORY_SEXUALLY_EXPLICIT\",\n",
            "              \"probability_label\": \"NEGLIGIBLE\",\n",
            "              \"probability_score\": 0.0267333984375,\n",
            "              \"blocked\": false,\n",
            "              \"severity\": \"HARM_SEVERITY_NEGLIGIBLE\",\n",
            "              \"severity_score\": 0.03955078125\n",
            "            }\n",
            "          ],\n",
            "          \"usage_metadata\": {\n",
            "            \"prompt_token_count\": 115,\n",
            "            \"candidates_token_count\": 8,\n",
            "            \"total_token_count\": 123\n",
            "          },\n",
            "          \"finish_reason\": \"STOP\",\n",
            "          \"avg_logprobs\": -0.3601331114768982\n",
            "        },\n",
            "        \"type\": \"Generation\"\n",
            "      }\n",
            "    ]\n",
            "  ],\n",
            "  \"llm_output\": null,\n",
            "  \"run\": null,\n",
            "  \"type\": \"LLMResult\"\n",
            "}\n",
            "\u001b[36;1m\u001b[1;3m[chain/end]\u001b[0m \u001b[1m[chain:ConversationalRetrievalChain > chain:LLMChain] [685ms] Exiting Chain run with output:\n",
            "\u001b[0m{\n",
            "  \"text\": \"What is the number for roadside assistance?\"\n",
            "}\n",
            "\u001b[32;1m\u001b[1;3m[chain/start]\u001b[0m \u001b[1m[chain:ConversationalRetrievalChain > chain:StuffDocumentsChain] Entering Chain run with input:\n",
            "\u001b[0m[inputs]\n",
            "\u001b[32;1m\u001b[1;3m[chain/start]\u001b[0m \u001b[1m[chain:ConversationalRetrievalChain > chain:StuffDocumentsChain > chain:LLMChain] Entering Chain run with input:\n",
            "\u001b[0m{\n",
            "  \"question\": \"What is the number for roadside assistance?\",\n",
            "  \"context\": \"manual.md 2024-03-23\\n21 / 22Wash your vehicle regularly to remove dirt and grime.\\nWax your vehicle twice a year to protect the paint.\\nCheck the tire pressure regularly and adjust it as needed.\\nInspect the brakes regularly for wear and tear.\\nKeep the interior of your vehicle clean and free of debris.\\nBy following these tips, you can help to keep your Cymbal Starlight 2024 in top condition for many years to\\ncome.\\nChapter 18: Emergencies\\nRoadside Assistance\\nIf you experience a roadside emergency, such as a flat tire or a dead battery, you can call roadside\\nassistance for help. Roadside assistance is available 24 hours a day, 7 days a week.\\nTo call roadside assistance, dial the following number:\\n1-800-555-1212\\nWhen you call roadside assistance, be prepared to provide the following information:\\nYour name and contact information\\nYour vehicle's make, model, and year\\nYour vehicle's location\\nThe nature of the emergency\\nFlat Tire\\n\\nHorn\\nThe horn is used to alert other drivers and pedestrians of your presence.\\nTo sound the horn, press the horn button located on the steering wheel.\\nEmergency Roadside Assistance\\nYour Cymbal Starlight 2024 comes with 24/7 emergency roadside assistance.\\nTo contact emergency roadside assistance, call the following number: 1-800-555-1212.\\nWhen you call, be prepared to provide the following information:\\nYour name and contact information\\nYour vehicle's make, model, and year\\nYour vehicle's location\\nThe nature of the emergency\\nTire Repair Kit\\nYour Cymbal Starlight 2024 comes with a tire repair kit that can be used to temporarily repair a flat\\ntire.\\nThe tire repair kit is located in the trunk of the vehicle.\\nTo use the tire repair kit, follow the instructions provided in the kit.\\nOther Emergency Tips\\nIf you are involved in an accident, remain calm and call 911 immediately.\\nIf you are able to move your vehicle, pull over to the side of the road and turn on your hazard lights.\\n\\nthe safety features in your Cymbal Starlight 2024. This chapter provides important information on how to\\nuse the following emergency assistance features:\\nHazard lights\\nHorn\\nEmergency roadside assistance\\nTire repair kit\\nHazard Lights\\n\\nmanual.md 2024-03-23\\n4 / 22The hazard lights are used to signal to other drivers that your vehicle is disabled or in an emergency\\nsituation.\\nTo activate the hazard lights, press the hazard light button located on the dashboard.\\nThe hazard lights will flash until you press the button again to turn them off.\\nHorn\\nThe horn is used to alert other drivers and pedestrians of your presence.\\nTo sound the horn, press the horn button located on the steering wheel.\\nEmergency Roadside Assistance\\nYour Cymbal Starlight 2024 comes with 24/7 emergency roadside assistance.\\nTo contact emergency roadside assistance, call the following number: 1-800-555-1212.\\nWhen you call, be prepared to provide the following information:\\nYour name and contact information\\nYour vehicle's make, model, and year\\nYour vehicle's location\\nThe nature of the emergency\\nTire Repair Kit\\nYour Cymbal Starlight 2024 comes with a tire repair kit that can be used to temporarily repair a flat\\ntire.\\n\\nStay in your vehicle and wait for emergency services to arrive.\\nIf you are stranded in a remote area, stay with your vehicle and try to attract attention by waving your\\narms or using a flashlight.\"\n",
            "}\n",
            "\u001b[32;1m\u001b[1;3m[llm/start]\u001b[0m \u001b[1m[chain:ConversationalRetrievalChain > chain:StuffDocumentsChain > chain:LLMChain > llm:VertexAI] Entering LLM run with input:\n",
            "\u001b[0m{\n",
            "  \"prompts\": [\n",
            "    \"Use the following pieces of context to answer the question at the end. If you don't know the answer, just say that you don't know, don't try to make up an answer.\\n\\nmanual.md 2024-03-23\\n21 / 22Wash your vehicle regularly to remove dirt and grime.\\nWax your vehicle twice a year to protect the paint.\\nCheck the tire pressure regularly and adjust it as needed.\\nInspect the brakes regularly for wear and tear.\\nKeep the interior of your vehicle clean and free of debris.\\nBy following these tips, you can help to keep your Cymbal Starlight 2024 in top condition for many years to\\ncome.\\nChapter 18: Emergencies\\nRoadside Assistance\\nIf you experience a roadside emergency, such as a flat tire or a dead battery, you can call roadside\\nassistance for help. Roadside assistance is available 24 hours a day, 7 days a week.\\nTo call roadside assistance, dial the following number:\\n1-800-555-1212\\nWhen you call roadside assistance, be prepared to provide the following information:\\nYour name and contact information\\nYour vehicle's make, model, and year\\nYour vehicle's location\\nThe nature of the emergency\\nFlat Tire\\n\\nHorn\\nThe horn is used to alert other drivers and pedestrians of your presence.\\nTo sound the horn, press the horn button located on the steering wheel.\\nEmergency Roadside Assistance\\nYour Cymbal Starlight 2024 comes with 24/7 emergency roadside assistance.\\nTo contact emergency roadside assistance, call the following number: 1-800-555-1212.\\nWhen you call, be prepared to provide the following information:\\nYour name and contact information\\nYour vehicle's make, model, and year\\nYour vehicle's location\\nThe nature of the emergency\\nTire Repair Kit\\nYour Cymbal Starlight 2024 comes with a tire repair kit that can be used to temporarily repair a flat\\ntire.\\nThe tire repair kit is located in the trunk of the vehicle.\\nTo use the tire repair kit, follow the instructions provided in the kit.\\nOther Emergency Tips\\nIf you are involved in an accident, remain calm and call 911 immediately.\\nIf you are able to move your vehicle, pull over to the side of the road and turn on your hazard lights.\\n\\nthe safety features in your Cymbal Starlight 2024. This chapter provides important information on how to\\nuse the following emergency assistance features:\\nHazard lights\\nHorn\\nEmergency roadside assistance\\nTire repair kit\\nHazard Lights\\n\\nmanual.md 2024-03-23\\n4 / 22The hazard lights are used to signal to other drivers that your vehicle is disabled or in an emergency\\nsituation.\\nTo activate the hazard lights, press the hazard light button located on the dashboard.\\nThe hazard lights will flash until you press the button again to turn them off.\\nHorn\\nThe horn is used to alert other drivers and pedestrians of your presence.\\nTo sound the horn, press the horn button located on the steering wheel.\\nEmergency Roadside Assistance\\nYour Cymbal Starlight 2024 comes with 24/7 emergency roadside assistance.\\nTo contact emergency roadside assistance, call the following number: 1-800-555-1212.\\nWhen you call, be prepared to provide the following information:\\nYour name and contact information\\nYour vehicle's make, model, and year\\nYour vehicle's location\\nThe nature of the emergency\\nTire Repair Kit\\nYour Cymbal Starlight 2024 comes with a tire repair kit that can be used to temporarily repair a flat\\ntire.\\n\\nStay in your vehicle and wait for emergency services to arrive.\\nIf you are stranded in a remote area, stay with your vehicle and try to attract attention by waving your\\narms or using a flashlight.\\n\\nQuestion: What is the number for roadside assistance?\\nHelpful Answer:\"\n",
            "  ]\n",
            "}\n",
            "\u001b[36;1m\u001b[1;3m[llm/end]\u001b[0m \u001b[1m[chain:ConversationalRetrievalChain > chain:StuffDocumentsChain > chain:LLMChain > llm:VertexAI] [1.26s] Exiting LLM run with output:\n",
            "\u001b[0m{\n",
            "  \"generations\": [\n",
            "    [\n",
            "      {\n",
            "        \"text\": \"The phone number for roadside assistance is 1-800-555-1212.\",\n",
            "        \"generation_info\": {\n",
            "          \"is_blocked\": false,\n",
            "          \"safety_ratings\": [\n",
            "            {\n",
            "              \"category\": \"HARM_CATEGORY_HATE_SPEECH\",\n",
            "              \"probability_label\": \"NEGLIGIBLE\",\n",
            "              \"probability_score\": 0.08154296875,\n",
            "              \"blocked\": false,\n",
            "              \"severity\": \"HARM_SEVERITY_NEGLIGIBLE\",\n",
            "              \"severity_score\": 0.103515625\n",
            "            },\n",
            "            {\n",
            "              \"category\": \"HARM_CATEGORY_DANGEROUS_CONTENT\",\n",
            "              \"probability_label\": \"NEGLIGIBLE\",\n",
            "              \"probability_score\": 0.404296875,\n",
            "              \"blocked\": false,\n",
            "              \"severity\": \"HARM_SEVERITY_LOW\",\n",
            "              \"severity_score\": 0.25390625\n",
            "            },\n",
            "            {\n",
            "              \"category\": \"HARM_CATEGORY_HARASSMENT\",\n",
            "              \"probability_label\": \"NEGLIGIBLE\",\n",
            "              \"probability_score\": 0.16015625,\n",
            "              \"blocked\": false,\n",
            "              \"severity\": \"HARM_SEVERITY_NEGLIGIBLE\",\n",
            "              \"severity_score\": 0.08154296875\n",
            "            },\n",
            "            {\n",
            "              \"category\": \"HARM_CATEGORY_SEXUALLY_EXPLICIT\",\n",
            "              \"probability_label\": \"NEGLIGIBLE\",\n",
            "              \"probability_score\": 0.08251953125,\n",
            "              \"blocked\": false,\n",
            "              \"severity\": \"HARM_SEVERITY_NEGLIGIBLE\",\n",
            "              \"severity_score\": 0.057373046875\n",
            "            }\n",
            "          ],\n",
            "          \"usage_metadata\": {\n",
            "            \"prompt_token_count\": 862,\n",
            "            \"candidates_token_count\": 23,\n",
            "            \"total_token_count\": 885\n",
            "          },\n",
            "          \"finish_reason\": \"STOP\",\n",
            "          \"avg_logprobs\": -0.11252338989921239\n",
            "        },\n",
            "        \"type\": \"Generation\"\n",
            "      }\n",
            "    ]\n",
            "  ],\n",
            "  \"llm_output\": null,\n",
            "  \"run\": null,\n",
            "  \"type\": \"LLMResult\"\n",
            "}\n",
            "\u001b[36;1m\u001b[1;3m[chain/end]\u001b[0m \u001b[1m[chain:ConversationalRetrievalChain > chain:StuffDocumentsChain > chain:LLMChain] [1.26s] Exiting Chain run with output:\n",
            "\u001b[0m{\n",
            "  \"text\": \"The phone number for roadside assistance is 1-800-555-1212.\"\n",
            "}\n",
            "\u001b[36;1m\u001b[1;3m[chain/end]\u001b[0m \u001b[1m[chain:ConversationalRetrievalChain > chain:StuffDocumentsChain] [1.26s] Exiting Chain run with output:\n",
            "\u001b[0m{\n",
            "  \"output_text\": \"The phone number for roadside assistance is 1-800-555-1212.\"\n",
            "}\n",
            "\u001b[36;1m\u001b[1;3m[chain/end]\u001b[0m \u001b[1m[chain:ConversationalRetrievalChain] [2.97s] Exiting Chain run with output:\n",
            "\u001b[0m{\n",
            "  \"answer\": \"The phone number for roadside assistance is 1-800-555-1212.\"\n",
            "}\n",
            "The phone number for roadside assistance is 1-800-555-1212.\n"
          ]
        }
      ]
    },
    {
      "cell_type": "markdown",
      "metadata": {
        "id": "B5PdyfQDlxrX"
      },
      "source": [
        "# Appendix"
      ]
    }
  ],
  "metadata": {
    "colab": {
      "name": "rag_qna_with_bq_and_featurestore.ipynb",
      "provenance": []
    },
    "kernelspec": {
      "display_name": "Python 3",
      "name": "python3"
    }
  },
  "nbformat": 4,
  "nbformat_minor": 0
}